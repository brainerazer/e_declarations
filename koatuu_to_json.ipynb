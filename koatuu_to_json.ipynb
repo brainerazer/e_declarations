{
 "cells": [
  {
   "cell_type": "code",
   "execution_count": 9,
   "metadata": {
    "collapsed": true
   },
   "outputs": [],
   "source": [
    "import csv"
   ]
  },
  {
   "cell_type": "code",
   "execution_count": 40,
   "metadata": {
    "collapsed": true
   },
   "outputs": [],
   "source": [
    "def UnicodeDictReader(utf8_data, **kwargs):\n",
    "    csv_reader = csv.DictReader(utf8_data, **kwargs)\n",
    "    for row in csv_reader:\n",
    "        yield {key: unicode(value, 'utf-8') for key, value in row.iteritems()}"
   ]
  },
  {
   "cell_type": "code",
   "execution_count": 41,
   "metadata": {
    "collapsed": false
   },
   "outputs": [],
   "source": [
    "with open(\"KOATUU_02112016.csv\") as csvfile:\n",
    "    reader = UnicodeDictReader(csvfile)\n",
    "    data = [r for r in reader]"
   ]
  },
  {
   "cell_type": "code",
   "execution_count": 42,
   "metadata": {
    "collapsed": false
   },
   "outputs": [
    {
     "name": "stdout",
     "output_type": "stream",
     "text": [
      "[{'NP': u'', 'TE': u'0100000000', 'NU': u'\\u0410\\u0412\\u0422\\u041e\\u041d\\u041e\\u041c\\u041d\\u0410 \\u0420\\u0415\\u0421\\u041f\\u0423\\u0411\\u041b\\u0406\\u041a\\u0410 \\u041a\\u0420\\u0418\\u041c/\\u041c.\\u0421\\u0406\\u041c\\u0424\\u0415\\u0420\\u041e\\u041f\\u041e\\u041b\\u042c'}, {'NP': u'', 'TE': u'0110000000', 'NU': u'\\u041c\\u0406\\u0421\\u0422\\u0410 \\u0410\\u0412\\u0422\\u041e\\u041d\\u041e\\u041c\\u041d\\u041e\\u0407 \\u0420\\u0415\\u0421\\u041f\\u0423\\u0411\\u041b\\u0406\\u041a\\u0418 \\u041a\\u0420\\u0418\\u041c'}, {'NP': u'', 'TE': u'0110100000', 'NU': u'\\u0421\\u0406\\u041c\\u0424\\u0415\\u0420\\u041e\\u041f\\u041e\\u041b\\u042c'}]\n"
     ]
    }
   ],
   "source": [
    "print(repdata[:3])"
   ]
  },
  {
   "cell_type": "code",
   "execution_count": 43,
   "metadata": {
    "collapsed": false
   },
   "outputs": [],
   "source": [
    "to_export = {}\n",
    "for row in data:\n",
    "    koatuu = row['TE']\n",
    "    koatuu_nazk = unicode('1.2.' + '.'.join([koatuu[:2], koatuu[2], koatuu[3:5], koatuu[5], koatuu[6:8], koatuu[8:]]))\n",
    "    to_export[koatuu_nazk] = row['NU']"
   ]
  },
  {
   "cell_type": "code",
   "execution_count": 45,
   "metadata": {
    "collapsed": false
   },
   "outputs": [],
   "source": [
    "import json\n",
    "import io\n",
    "\n",
    "with io.open('nazk_koatuu.json', 'w', encoding='utf8') as json_file:\n",
    "    data = json.dumps(to_export, ensure_ascii=False, sort_keys=True, indent=4, separators=(',', ': '))\n",
    "    # unicode(data) auto-decodes data to unicode if str\n",
    "    json_file.write(unicode(data))"
   ]
  },
  {
   "cell_type": "code",
   "execution_count": null,
   "metadata": {
    "collapsed": true
   },
   "outputs": [],
   "source": []
  }
 ],
 "metadata": {
  "anaconda-cloud": {},
  "kernelspec": {
   "display_name": "Python [Root]",
   "language": "python",
   "name": "Python [Root]"
  },
  "language_info": {
   "codemirror_mode": {
    "name": "ipython",
    "version": 2
   },
   "file_extension": ".py",
   "mimetype": "text/x-python",
   "name": "python",
   "nbconvert_exporter": "python",
   "pygments_lexer": "ipython2",
   "version": "2.7.11"
  }
 },
 "nbformat": 4,
 "nbformat_minor": 0
}
