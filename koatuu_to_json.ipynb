{
 "cells": [
  {
   "cell_type": "code",
   "execution_count": 1,
   "metadata": {
    "collapsed": true
   },
   "outputs": [],
   "source": [
    "import csv"
   ]
  },
  {
   "cell_type": "code",
   "execution_count": 2,
   "metadata": {
    "collapsed": true
   },
   "outputs": [],
   "source": [
    "def UnicodeDictReader(utf8_data, **kwargs):\n",
    "    csv_reader = csv.DictReader(utf8_data, **kwargs)\n",
    "    for row in csv_reader:\n",
    "        yield {key: unicode(value, 'utf-8') for key, value in row.iteritems()}"
   ]
  },
  {
   "cell_type": "code",
   "execution_count": 3,
   "metadata": {
    "collapsed": false
   },
   "outputs": [],
   "source": [
    "with open(\"KOATUU_02112016.csv\") as csvfile:\n",
    "    reader = UnicodeDictReader(csvfile)\n",
    "    data = [r for r in reader]"
   ]
  },
  {
   "cell_type": "code",
   "execution_count": 4,
   "metadata": {
    "collapsed": false
   },
   "outputs": [
    {
     "name": "stdout",
     "output_type": "stream",
     "text": [
      "[{'NP': u'', 'TE': u'0100000000', 'NU': u'АВТОНОМНА РЕСПУБЛІКА КРИМ/М.СІМФЕРОПОЛЬ'}, {'NP': u'', 'TE': u'0110000000', 'NU': u'МІСТА АВТОНОМНОЇ РЕСПУБЛІКИ КРИМ'}, {'NP': u'', 'TE': u'0110100000', 'NU': u'СІМФЕРОПОЛЬ'}]\n"
     ]
    }
   ],
   "source": [
    "print(repr(data[:3]).decode('unicode_escape'))"
   ]
  },
  {
   "cell_type": "code",
   "execution_count": 5,
   "metadata": {
    "collapsed": false
   },
   "outputs": [],
   "source": [
    "to_export = {}\n",
    "for row in data:\n",
    "    koatuu = row['TE']\n",
    "    koatuu_nazk = unicode('1.2.' + '.'.join([koatuu[:2], koatuu[2], koatuu[3:5], koatuu[5], koatuu[6:8], koatuu[8:]]))\n",
    "    to_export[koatuu_nazk] = row['NU']"
   ]
  },
  {
   "cell_type": "code",
   "execution_count": 6,
   "metadata": {
    "collapsed": false
   },
   "outputs": [],
   "source": [
    "import json\n",
    "import io\n",
    "\n",
    "with io.open('nazk_koatuu.json', 'w', encoding='utf8') as json_file:\n",
    "    data = json.dumps(to_export, ensure_ascii=False, sort_keys=True, indent=4, separators=(',', ': '))\n",
    "    json_file.write(unicode(data))"
   ]
  },
  {
   "cell_type": "code",
   "execution_count": null,
   "metadata": {
    "collapsed": true
   },
   "outputs": [],
   "source": []
  }
 ],
 "metadata": {
  "anaconda-cloud": {},
  "kernelspec": {
   "display_name": "Python [Root]",
   "language": "python",
   "name": "Python [Root]"
  },
  "language_info": {
   "codemirror_mode": {
    "name": "ipython",
    "version": 2
   },
   "file_extension": ".py",
   "mimetype": "text/x-python",
   "name": "python",
   "nbconvert_exporter": "python",
   "pygments_lexer": "ipython2",
   "version": "2.7.11"
  }
 },
 "nbformat": 4,
 "nbformat_minor": 0
}
